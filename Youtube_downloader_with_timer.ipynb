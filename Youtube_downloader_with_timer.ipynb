{
  "nbformat": 4,
  "nbformat_minor": 0,
  "metadata": {
    "colab": {
      "provenance": [],
      "gpuType": "T4",
      "authorship_tag": "ABX9TyONa175PntK87xTZ/jem3Lp",
      "include_colab_link": true
    },
    "kernelspec": {
      "name": "python3",
      "display_name": "Python 3"
    },
    "language_info": {
      "name": "python"
    },
    "accelerator": "GPU"
  },
  "cells": [
    {
      "cell_type": "markdown",
      "metadata": {
        "id": "view-in-github",
        "colab_type": "text"
      },
      "source": [
        "<a href=\"https://colab.research.google.com/github/neuralshyam/Google_Colab_python/blob/main/Youtube_downloader_with_timer.ipynb\" target=\"_parent\"><img src=\"https://colab.research.google.com/assets/colab-badge.svg\" alt=\"Open In Colab\"/></a>"
      ]
    },
    {
      "cell_type": "code",
      "source": [
        "#@title Install the necessary libraries first\n",
        "!pip install pytube moviepy pydub"
      ],
      "metadata": {
        "colab": {
          "base_uri": "https://localhost:8080/"
        },
        "id": "T0SmloP0iAzi",
        "outputId": "8145eed9-6552-4045-c0c3-f34857faf92a"
      },
      "execution_count": 2,
      "outputs": [
        {
          "output_type": "stream",
          "name": "stdout",
          "text": [
            "Collecting pytube\n",
            "  Downloading pytube-15.0.0-py3-none-any.whl (57 kB)\n",
            "\u001b[2K     \u001b[90m━━━━━━━━━━━━━━━━━━━━━━━━━━━━━━━━━━━━━━━━\u001b[0m \u001b[32m57.6/57.6 kB\u001b[0m \u001b[31m696.8 kB/s\u001b[0m eta \u001b[36m0:00:00\u001b[0m\n",
            "\u001b[?25hRequirement already satisfied: moviepy in /usr/local/lib/python3.10/dist-packages (1.0.3)\n",
            "Collecting pydub\n",
            "  Downloading pydub-0.25.1-py2.py3-none-any.whl (32 kB)\n",
            "Requirement already satisfied: decorator<5.0,>=4.0.2 in /usr/local/lib/python3.10/dist-packages (from moviepy) (4.4.2)\n",
            "Requirement already satisfied: tqdm<5.0,>=4.11.2 in /usr/local/lib/python3.10/dist-packages (from moviepy) (4.66.1)\n",
            "Requirement already satisfied: requests<3.0,>=2.8.1 in /usr/local/lib/python3.10/dist-packages (from moviepy) (2.31.0)\n",
            "Requirement already satisfied: proglog<=1.0.0 in /usr/local/lib/python3.10/dist-packages (from moviepy) (0.1.10)\n",
            "Requirement already satisfied: numpy>=1.17.3 in /usr/local/lib/python3.10/dist-packages (from moviepy) (1.23.5)\n",
            "Requirement already satisfied: imageio<3.0,>=2.5 in /usr/local/lib/python3.10/dist-packages (from moviepy) (2.31.6)\n",
            "Requirement already satisfied: imageio-ffmpeg>=0.2.0 in /usr/local/lib/python3.10/dist-packages (from moviepy) (0.4.9)\n",
            "Requirement already satisfied: pillow<10.1.0,>=8.3.2 in /usr/local/lib/python3.10/dist-packages (from imageio<3.0,>=2.5->moviepy) (9.4.0)\n",
            "Requirement already satisfied: setuptools in /usr/local/lib/python3.10/dist-packages (from imageio-ffmpeg>=0.2.0->moviepy) (67.7.2)\n",
            "Requirement already satisfied: charset-normalizer<4,>=2 in /usr/local/lib/python3.10/dist-packages (from requests<3.0,>=2.8.1->moviepy) (3.3.2)\n",
            "Requirement already satisfied: idna<4,>=2.5 in /usr/local/lib/python3.10/dist-packages (from requests<3.0,>=2.8.1->moviepy) (3.6)\n",
            "Requirement already satisfied: urllib3<3,>=1.21.1 in /usr/local/lib/python3.10/dist-packages (from requests<3.0,>=2.8.1->moviepy) (2.0.7)\n",
            "Requirement already satisfied: certifi>=2017.4.17 in /usr/local/lib/python3.10/dist-packages (from requests<3.0,>=2.8.1->moviepy) (2023.11.17)\n",
            "Installing collected packages: pydub, pytube\n",
            "Successfully installed pydub-0.25.1 pytube-15.0.0\n"
          ]
        }
      ]
    },
    {
      "cell_type": "code",
      "source": [
        "#@title Download videos with timer\n",
        "from pytube import YouTube\n",
        "from moviepy.editor import VideoFileClip\n",
        "import os\n",
        "def convert_minutes_to_seconds(time_string):\n",
        "    try:\n",
        "        minutes, seconds = map(int, time_string.split(':'))\n",
        "        return minutes * 60 + seconds\n",
        "    except ValueError:\n",
        "        print(\"Invalid time format. Please use MM:SS.\")\n",
        "# Parameters for interactive input\n",
        "\n",
        "startm = 2  #@param {type:\"slider\", min:0, max:59, step:1}\n",
        "starts = 0  #@param {type:\"slider\", min:0, max:59, step:1}\n",
        "endm = 2  #@param {type:\"slider\", min:0, max:59, step:1}\n",
        "ends = 16  #@param {type:\"slider\", min:0, max:59, step:1}\n",
        "start_timev_str = f\"{startm}:{starts}\"\n",
        "end_timev_str = f\"{endm}:{ends}\"\n",
        "\n",
        "start_timev = convert_minutes_to_seconds(start_timev_str)\n",
        "end_timev = convert_minutes_to_seconds(end_timev_str)\n",
        "\n",
        "# Download the video from YouTube\n",
        "video_url = \"https://youtu.be/IVAWBpeNAmE\" #@param {type:\"string\"}\n",
        "video = YouTube(video_url)\n",
        "\n",
        "# Get the highest resolution progressive stream\n",
        "stream = video.streams.get_highest_resolution()\n",
        "\n",
        "# Download the stream\n",
        "stream.download(filename='video.mp4')\n",
        "\n",
        "# Extract the subclip from the video file\n",
        "video_clip = VideoFileClip('video.mp4')\n",
        "subclip = video_clip.subclip(start_timev, end_timev)\n",
        "\n",
        "# Save the subclip as a new video file\n",
        "outputvideo = \"test.mp4\" #@param {type:\"string\"}\n",
        "subclip.write_videofile(outputvideo)\n",
        "\n",
        "# Delete the original video file\n",
        "video_clip.close()\n",
        "os.remove('video.mp4')"
      ],
      "metadata": {
        "colab": {
          "base_uri": "https://localhost:8080/"
        },
        "id": "SfNf5LoN4at7",
        "outputId": "e7441750-daa7-4031-e4b9-a5d5aef12e40"
      },
      "execution_count": 4,
      "outputs": [
        {
          "output_type": "stream",
          "name": "stderr",
          "text": [
            "t:   1%|▏         | 31/2368 [00:26<00:20, 114.20it/s, now=None]"
          ]
        },
        {
          "output_type": "stream",
          "name": "stdout",
          "text": [
            "Moviepy - Building video test.mp4.\n",
            "MoviePy - Writing audio in testTEMP_MPY_wvf_snd.mp3\n"
          ]
        },
        {
          "output_type": "stream",
          "name": "stderr",
          "text": [
            "\n",
            "chunk:   0%|          | 0/353 [00:00<?, ?it/s, now=None]\u001b[A\n",
            "chunk:  16%|█▋        | 58/353 [00:00<00:00, 574.48it/s, now=None]\u001b[A\n",
            "chunk:  41%|████      | 143/353 [00:00<00:00, 734.68it/s, now=None]\u001b[A\n",
            "chunk:  65%|██████▍   | 229/353 [00:00<00:00, 784.24it/s, now=None]\u001b[A\n",
            "chunk:  89%|████████▉ | 315/353 [00:00<00:00, 812.38it/s, now=None]\u001b[A\n",
            "t:   1%|▏         | 31/2368 [00:26<00:20, 114.20it/s, now=None]"
          ]
        },
        {
          "output_type": "stream",
          "name": "stdout",
          "text": [
            "MoviePy - Done.\n",
            "Moviepy - Writing video test.mp4\n",
            "\n"
          ]
        },
        {
          "output_type": "stream",
          "name": "stderr",
          "text": [
            "\n",
            "t:   0%|          | 0/480 [00:00<?, ?it/s, now=None]\u001b[A\n",
            "t:   2%|▏         | 11/480 [00:00<00:04, 109.22it/s, now=None]\u001b[A\n",
            "t:   5%|▍         | 22/480 [00:00<00:04, 104.46it/s, now=None]\u001b[A\n",
            "t:   7%|▋         | 33/480 [00:00<00:04, 95.31it/s, now=None] \u001b[A\n",
            "t:   9%|▉         | 43/480 [00:00<00:04, 90.59it/s, now=None]\u001b[A\n",
            "t:  11%|█         | 53/480 [00:00<00:04, 88.53it/s, now=None]\u001b[A\n",
            "t:  13%|█▎        | 62/480 [00:01<00:10, 38.56it/s, now=None]\u001b[A\n",
            "t:  14%|█▍        | 69/480 [00:01<00:12, 33.98it/s, now=None]\u001b[A\n",
            "t:  16%|█▌        | 75/480 [00:01<00:13, 30.68it/s, now=None]\u001b[A\n",
            "t:  17%|█▋        | 80/480 [00:02<00:17, 22.89it/s, now=None]\u001b[A\n",
            "t:  18%|█▊        | 84/480 [00:02<00:19, 20.43it/s, now=None]\u001b[A\n",
            "t:  18%|█▊        | 87/480 [00:02<00:21, 18.18it/s, now=None]\u001b[A\n",
            "t:  19%|█▉        | 90/480 [00:02<00:23, 16.90it/s, now=None]\u001b[A\n",
            "t:  19%|█▉        | 93/480 [00:02<00:21, 17.92it/s, now=None]\u001b[A\n",
            "t:  20%|██        | 96/480 [00:03<00:22, 17.36it/s, now=None]\u001b[A\n",
            "t:  21%|██        | 99/480 [00:03<00:20, 18.46it/s, now=None]\u001b[A\n",
            "t:  21%|██▏       | 102/480 [00:03<00:22, 16.46it/s, now=None]\u001b[A\n",
            "t:  22%|██▏       | 105/480 [00:03<00:21, 17.78it/s, now=None]\u001b[A\n",
            "t:  22%|██▏       | 107/480 [00:03<00:27, 13.45it/s, now=None]\u001b[A\n",
            "t:  23%|██▎       | 109/480 [00:04<00:26, 13.75it/s, now=None]\u001b[A\n",
            "t:  23%|██▎       | 111/480 [00:04<00:24, 14.83it/s, now=None]\u001b[A\n",
            "t:  24%|██▎       | 113/480 [00:04<00:28, 12.93it/s, now=None]\u001b[A\n",
            "t:  24%|██▍       | 115/480 [00:04<00:26, 13.87it/s, now=None]\u001b[A\n",
            "t:  24%|██▍       | 117/480 [00:04<00:29, 12.20it/s, now=None]\u001b[A\n",
            "t:  25%|██▍       | 119/480 [00:04<00:27, 12.98it/s, now=None]\u001b[A\n",
            "t:  25%|██▌       | 121/480 [00:04<00:26, 13.68it/s, now=None]\u001b[A\n",
            "t:  26%|██▌       | 123/480 [00:05<00:29, 11.92it/s, now=None]\u001b[A\n",
            "t:  26%|██▋       | 126/480 [00:05<00:31, 11.24it/s, now=None]\u001b[A\n",
            "t:  27%|██▋       | 129/480 [00:05<00:27, 12.67it/s, now=None]\u001b[A\n",
            "t:  27%|██▋       | 131/480 [00:05<00:25, 13.75it/s, now=None]\u001b[A\n",
            "t:  28%|██▊       | 133/480 [00:05<00:28, 12.26it/s, now=None]\u001b[A\n",
            "t:  28%|██▊       | 135/480 [00:06<00:30, 11.47it/s, now=None]\u001b[A\n",
            "t:  29%|██▊       | 137/480 [00:06<00:30, 11.24it/s, now=None]\u001b[A\n",
            "t:  29%|██▉       | 139/480 [00:06<00:26, 12.77it/s, now=None]\u001b[A\n",
            "t:  29%|██▉       | 141/480 [00:06<00:33, 10.12it/s, now=None]\u001b[A\n",
            "t:  30%|██▉       | 143/480 [00:06<00:28, 11.76it/s, now=None]\u001b[A\n",
            "t:  30%|███       | 145/480 [00:07<00:34,  9.65it/s, now=None]\u001b[A\n",
            "t:  31%|███       | 147/480 [00:07<00:32, 10.10it/s, now=None]\u001b[A\n",
            "t:  31%|███       | 149/480 [00:07<00:34,  9.57it/s, now=None]\u001b[A\n",
            "t:  32%|███▏      | 152/480 [00:07<00:36,  9.02it/s, now=None]\u001b[A\n",
            "t:  32%|███▏      | 155/480 [00:08<00:30, 10.49it/s, now=None]\u001b[A\n",
            "t:  33%|███▎      | 157/480 [00:08<00:34,  9.33it/s, now=None]\u001b[A\n",
            "t:  33%|███▎      | 159/480 [00:08<00:31, 10.20it/s, now=None]\u001b[A\n",
            "t:  34%|███▎      | 161/480 [00:08<00:27, 11.58it/s, now=None]\u001b[A\n",
            "t:  34%|███▍      | 163/480 [00:08<00:32,  9.84it/s, now=None]\u001b[A\n",
            "t:  35%|███▍      | 166/480 [00:09<00:30, 10.32it/s, now=None]\u001b[A\n",
            "t:  35%|███▌      | 168/480 [00:09<00:27, 11.54it/s, now=None]\u001b[A\n",
            "t:  35%|███▌      | 170/480 [00:09<00:25, 12.31it/s, now=None]\u001b[A\n",
            "t:  36%|███▌      | 172/480 [00:09<00:29, 10.59it/s, now=None]\u001b[A\n",
            "t:  36%|███▋      | 175/480 [00:09<00:23, 13.15it/s, now=None]\u001b[A\n",
            "t:  37%|███▋      | 177/480 [00:10<00:28, 10.60it/s, now=None]\u001b[A\n",
            "t:  37%|███▋      | 179/480 [00:10<00:27, 11.10it/s, now=None]\u001b[A\n",
            "t:  38%|███▊      | 181/480 [00:10<00:24, 12.43it/s, now=None]\u001b[A\n",
            "t:  38%|███▊      | 183/480 [00:10<00:25, 11.55it/s, now=None]\u001b[A\n",
            "t:  39%|███▊      | 185/480 [00:10<00:25, 11.39it/s, now=None]\u001b[A\n",
            "t:  39%|███▉      | 188/480 [00:11<00:25, 11.66it/s, now=None]\u001b[A\n",
            "t:  40%|███▉      | 191/480 [00:11<00:20, 13.85it/s, now=None]\u001b[A\n",
            "t:  40%|████      | 193/480 [00:11<00:20, 14.02it/s, now=None]\u001b[A\n",
            "t:  41%|████      | 196/480 [00:11<00:18, 15.46it/s, now=None]\u001b[A\n",
            "t:  41%|████▏     | 199/480 [00:11<00:15, 17.96it/s, now=None]\u001b[A\n",
            "t:  42%|████▏     | 202/480 [00:11<00:16, 17.04it/s, now=None]\u001b[A\n",
            "t:  43%|████▎     | 206/480 [00:11<00:14, 18.82it/s, now=None]\u001b[A\n",
            "t:  44%|████▎     | 209/480 [00:12<00:13, 20.72it/s, now=None]\u001b[A\n",
            "t:  44%|████▍     | 212/480 [00:12<00:13, 20.14it/s, now=None]\u001b[A\n",
            "t:  45%|████▍     | 215/480 [00:12<00:14, 17.97it/s, now=None]\u001b[A\n",
            "t:  45%|████▌     | 217/480 [00:12<00:15, 17.11it/s, now=None]\u001b[A\n",
            "t:  46%|████▌     | 221/480 [00:12<00:14, 17.78it/s, now=None]\u001b[A\n",
            "t:  47%|████▋     | 225/480 [00:13<00:13, 18.93it/s, now=None]\u001b[A\n",
            "t:  48%|████▊     | 228/480 [00:13<00:13, 18.77it/s, now=None]\u001b[A\n",
            "t:  48%|████▊     | 231/480 [00:13<00:11, 20.76it/s, now=None]\u001b[A\n",
            "t:  49%|████▉     | 234/480 [00:13<00:11, 21.06it/s, now=None]\u001b[A\n",
            "t:  49%|████▉     | 237/480 [00:13<00:12, 18.93it/s, now=None]\u001b[A\n",
            "t:  50%|█████     | 240/480 [00:13<00:12, 19.66it/s, now=None]\u001b[A\n",
            "t:  51%|█████     | 243/480 [00:13<00:11, 20.24it/s, now=None]\u001b[A\n",
            "t:  51%|█████▏    | 246/480 [00:13<00:10, 21.88it/s, now=None]\u001b[A\n",
            "t:  52%|█████▏    | 249/480 [00:14<00:11, 20.96it/s, now=None]\u001b[A\n",
            "t:  52%|█████▎    | 252/480 [00:14<00:11, 19.34it/s, now=None]\u001b[A\n",
            "t:  53%|█████▎    | 255/480 [00:14<00:11, 19.94it/s, now=None]\u001b[A\n",
            "t:  54%|█████▍    | 258/480 [00:14<00:10, 21.01it/s, now=None]\u001b[A\n",
            "t:  55%|█████▍    | 262/480 [00:14<00:10, 20.10it/s, now=None]\u001b[A\n",
            "t:  55%|█████▌    | 266/480 [00:15<00:11, 18.77it/s, now=None]\u001b[A\n",
            "t:  56%|█████▌    | 269/480 [00:15<00:10, 19.62it/s, now=None]\u001b[A\n",
            "t:  57%|█████▋    | 272/480 [00:15<00:11, 17.60it/s, now=None]\u001b[A\n",
            "t:  57%|█████▋    | 275/480 [00:15<00:10, 19.60it/s, now=None]\u001b[A\n",
            "t:  58%|█████▊    | 278/480 [00:15<00:10, 19.56it/s, now=None]\u001b[A\n",
            "t:  59%|█████▊    | 281/480 [00:15<00:10, 18.72it/s, now=None]\u001b[A\n",
            "t:  59%|█████▉    | 284/480 [00:15<00:09, 20.77it/s, now=None]\u001b[A\n",
            "t:  60%|█████▉    | 287/480 [00:16<00:09, 20.09it/s, now=None]\u001b[A\n",
            "t:  60%|██████    | 290/480 [00:16<00:08, 21.20it/s, now=None]\u001b[A\n",
            "t:  61%|██████    | 293/480 [00:16<00:09, 19.87it/s, now=None]\u001b[A\n",
            "t:  62%|██████▏   | 296/480 [00:16<00:10, 18.05it/s, now=None]\u001b[A\n",
            "t:  62%|██████▏   | 299/480 [00:16<00:09, 19.15it/s, now=None]\u001b[A\n",
            "t:  63%|██████▎   | 302/480 [00:16<00:09, 19.42it/s, now=None]\u001b[A\n",
            "t:  64%|██████▎   | 305/480 [00:17<00:09, 19.22it/s, now=None]\u001b[A\n",
            "t:  64%|██████▍   | 307/480 [00:17<00:09, 18.78it/s, now=None]\u001b[A\n",
            "t:  65%|██████▍   | 310/480 [00:17<00:07, 21.26it/s, now=None]\u001b[A\n",
            "t:  65%|██████▌   | 313/480 [00:17<00:08, 19.54it/s, now=None]\u001b[A\n",
            "t:  66%|██████▌   | 316/480 [00:17<00:08, 18.57it/s, now=None]\u001b[A\n",
            "t:  66%|██████▋   | 319/480 [00:17<00:08, 18.65it/s, now=None]\u001b[A\n",
            "t:  67%|██████▋   | 321/480 [00:17<00:09, 16.84it/s, now=None]\u001b[A\n",
            "t:  67%|██████▋   | 323/480 [00:18<00:11, 14.27it/s, now=None]\u001b[A\n",
            "t:  68%|██████▊   | 325/480 [00:18<00:10, 15.27it/s, now=None]\u001b[A\n",
            "t:  68%|██████▊   | 327/480 [00:18<00:11, 12.84it/s, now=None]\u001b[A\n",
            "t:  69%|██████▊   | 329/480 [00:18<00:11, 13.64it/s, now=None]\u001b[A\n",
            "t:  69%|██████▉   | 331/480 [00:18<00:10, 13.89it/s, now=None]\u001b[A\n",
            "t:  69%|██████▉   | 333/480 [00:18<00:10, 13.42it/s, now=None]\u001b[A\n",
            "t:  70%|██████▉   | 335/480 [00:19<00:11, 12.98it/s, now=None]\u001b[A\n",
            "t:  70%|███████   | 337/480 [00:19<00:11, 12.96it/s, now=None]\u001b[A\n",
            "t:  71%|███████   | 339/480 [00:19<00:11, 12.40it/s, now=None]\u001b[A\n",
            "t:  71%|███████   | 341/480 [00:19<00:10, 13.31it/s, now=None]\u001b[A\n",
            "t:  71%|███████▏  | 343/480 [00:19<00:09, 13.78it/s, now=None]\u001b[A\n",
            "t:  72%|███████▏  | 346/480 [00:19<00:08, 16.74it/s, now=None]\u001b[A\n",
            "t:  73%|███████▎  | 349/480 [00:19<00:07, 17.87it/s, now=None]\u001b[A\n",
            "t:  73%|███████▎  | 352/480 [00:20<00:06, 19.05it/s, now=None]\u001b[A\n",
            "t:  74%|███████▍  | 355/480 [00:20<00:06, 18.94it/s, now=None]\u001b[A\n",
            "t:  75%|███████▍  | 358/480 [00:20<00:05, 20.71it/s, now=None]\u001b[A\n",
            "t:  75%|███████▌  | 361/480 [00:20<00:06, 19.20it/s, now=None]\u001b[A\n",
            "t:  76%|███████▌  | 363/480 [00:20<00:06, 18.47it/s, now=None]\u001b[A\n",
            "t:  76%|███████▋  | 366/480 [00:20<00:05, 20.55it/s, now=None]\u001b[A\n",
            "t:  77%|███████▋  | 369/480 [00:20<00:05, 20.81it/s, now=None]\u001b[A\n",
            "t:  78%|███████▊  | 372/480 [00:21<00:05, 20.18it/s, now=None]\u001b[A\n",
            "t:  78%|███████▊  | 375/480 [00:21<00:06, 17.36it/s, now=None]\u001b[A\n",
            "t:  79%|███████▊  | 377/480 [00:21<00:05, 17.56it/s, now=None]\u001b[A\n",
            "t:  79%|███████▉  | 379/480 [00:21<00:06, 14.46it/s, now=None]\u001b[A\n",
            "t:  79%|███████▉  | 381/480 [00:21<00:06, 14.87it/s, now=None]\u001b[A\n",
            "t:  80%|███████▉  | 383/480 [00:21<00:06, 13.98it/s, now=None]\u001b[A\n",
            "t:  80%|████████  | 385/480 [00:22<00:06, 13.67it/s, now=None]\u001b[A\n",
            "t:  81%|████████  | 387/480 [00:22<00:06, 14.68it/s, now=None]\u001b[A\n",
            "t:  81%|████████  | 389/480 [00:22<00:06, 14.10it/s, now=None]\u001b[A\n",
            "t:  81%|████████▏ | 391/480 [00:22<00:07, 11.66it/s, now=None]\u001b[A\n",
            "t:  82%|████████▏ | 394/480 [00:22<00:06, 12.95it/s, now=None]\u001b[A\n",
            "t:  82%|████████▎ | 396/480 [00:22<00:06, 12.81it/s, now=None]\u001b[A\n",
            "t:  83%|████████▎ | 398/480 [00:23<00:06, 13.30it/s, now=None]\u001b[A\n",
            "t:  83%|████████▎ | 400/480 [00:23<00:06, 12.27it/s, now=None]\u001b[A\n",
            "t:  84%|████████▍ | 402/480 [00:23<00:06, 12.50it/s, now=None]\u001b[A\n",
            "t:  84%|████████▍ | 404/480 [00:23<00:06, 11.73it/s, now=None]\u001b[A\n",
            "t:  85%|████████▍ | 407/480 [00:23<00:05, 13.06it/s, now=None]\u001b[A\n",
            "t:  85%|████████▌ | 409/480 [00:23<00:05, 12.38it/s, now=None]\u001b[A\n",
            "t:  86%|████████▌ | 411/480 [00:24<00:05, 12.93it/s, now=None]\u001b[A\n",
            "t:  86%|████████▌ | 413/480 [00:24<00:05, 11.40it/s, now=None]\u001b[A\n",
            "t:  87%|████████▋ | 416/480 [00:24<00:05, 12.26it/s, now=None]\u001b[A\n",
            "t:  87%|████████▋ | 418/480 [00:24<00:04, 12.51it/s, now=None]\u001b[A\n",
            "t:  88%|████████▊ | 420/480 [00:24<00:04, 12.21it/s, now=None]\u001b[A\n",
            "t:  88%|████████▊ | 422/480 [00:25<00:05, 11.03it/s, now=None]\u001b[A\n",
            "t:  88%|████████▊ | 424/480 [00:25<00:04, 12.66it/s, now=None]\u001b[A\n",
            "t:  89%|████████▉ | 426/480 [00:25<00:04, 11.30it/s, now=None]\u001b[A\n",
            "t:  89%|████████▉ | 428/480 [00:25<00:04, 12.16it/s, now=None]\u001b[A\n",
            "t:  90%|████████▉ | 430/480 [00:25<00:04, 10.94it/s, now=None]\u001b[A\n",
            "t:  90%|█████████ | 432/480 [00:25<00:03, 12.56it/s, now=None]\u001b[A\n",
            "t:  90%|█████████ | 434/480 [00:26<00:04, 11.32it/s, now=None]\u001b[A\n",
            "t:  91%|█████████ | 437/480 [00:26<00:03, 12.91it/s, now=None]\u001b[A\n",
            "t:  91%|█████████▏| 439/480 [00:26<00:03, 11.89it/s, now=None]\u001b[A\n",
            "t:  92%|█████████▏| 441/480 [00:26<00:02, 13.33it/s, now=None]\u001b[A\n",
            "t:  92%|█████████▏| 443/480 [00:26<00:03, 10.92it/s, now=None]\u001b[A\n",
            "t:  93%|█████████▎| 445/480 [00:27<00:03, 11.06it/s, now=None]\u001b[A\n",
            "t:  93%|█████████▎| 447/480 [00:27<00:02, 11.11it/s, now=None]\u001b[A\n",
            "t:  94%|█████████▎| 449/480 [00:27<00:02, 12.25it/s, now=None]\u001b[A\n",
            "t:  94%|█████████▍| 451/480 [00:27<00:02, 10.24it/s, now=None]\u001b[A\n",
            "t:  94%|█████████▍| 453/480 [00:27<00:02, 10.75it/s, now=None]\u001b[A\n",
            "t:  95%|█████████▍| 455/480 [00:27<00:02, 10.58it/s, now=None]\u001b[A\n",
            "t:  95%|█████████▌| 457/480 [00:28<00:02, 11.16it/s, now=None]\u001b[A\n",
            "t:  96%|█████████▌| 459/480 [00:28<00:01, 11.64it/s, now=None]\u001b[A\n",
            "t:  96%|█████████▌| 461/480 [00:28<00:01, 12.77it/s, now=None]\u001b[A\n",
            "t:  96%|█████████▋| 463/480 [00:28<00:01, 11.62it/s, now=None]\u001b[A\n",
            "t:  97%|█████████▋| 465/480 [00:28<00:01, 12.61it/s, now=None]\u001b[A\n",
            "t:  97%|█████████▋| 467/480 [00:28<00:00, 14.02it/s, now=None]\u001b[A\n",
            "t:  98%|█████████▊| 469/480 [00:28<00:00, 13.82it/s, now=None]\u001b[A\n",
            "t:  98%|█████████▊| 471/480 [00:29<00:00, 14.69it/s, now=None]\u001b[A\n",
            "t:  99%|█████████▊| 473/480 [00:29<00:00, 14.63it/s, now=None]\u001b[A\n",
            "t:  99%|█████████▉| 476/480 [00:29<00:00, 17.11it/s, now=None]\u001b[A\n",
            "t: 100%|█████████▉| 479/480 [00:29<00:00, 18.95it/s, now=None]\u001b[A\n",
            "t:   1%|▏         | 31/2368 [00:58<00:20, 114.20it/s, now=None]"
          ]
        },
        {
          "output_type": "stream",
          "name": "stdout",
          "text": [
            "Moviepy - Done !\n",
            "Moviepy - video ready test.mp4\n"
          ]
        }
      ]
    },
    {
      "cell_type": "code",
      "execution_count": null,
      "metadata": {
        "id": "nbxWDniZevbk",
        "colab": {
          "base_uri": "https://localhost:8080/"
        },
        "outputId": "523016f4-4992-4782-fc2f-4c31ea9481c1",
        "cellView": "form"
      },
      "outputs": [
        {
          "output_type": "stream",
          "name": "stdout",
          "text": [
            "MoviePy - Writing audio in audio.wav\n"
          ]
        },
        {
          "output_type": "stream",
          "name": "stderr",
          "text": []
        },
        {
          "output_type": "stream",
          "name": "stdout",
          "text": [
            "MoviePy - Done.\n"
          ]
        }
      ],
      "source": [
        "\n",
        "#@title Download and convert to wav\n",
        "from pytube import YouTube\n",
        "from moviepy.editor import VideoFileClip\n",
        "import os\n",
        "def convert_minutes_to_seconds(time_string):\n",
        "    try:\n",
        "        minutes, seconds = map(int, time_string.split(':'))\n",
        "        return minutes * 60 + seconds\n",
        "    except ValueError:\n",
        "        print(\"Invalid time format. Please use MM:SS.\")\n",
        "# Parameters for interactive input\n",
        "url = \"https://youtu.be/VRx7a5-F7-g\"  #@param {type:\"string\"}\n",
        "start_minutes = 0  #@param {type:\"slider\", min:0, max:59, step:1}\n",
        "start_seconds = 41  #@param {type:\"slider\", min:0, max:59, step:1}\n",
        "end_minutes = 45  #@param {type:\"slider\", min:0, max:59, step:1}\n",
        "end_seconds = 44  #@param {type:\"slider\", min:0, max:59, step:1}\n",
        "\n",
        "\n",
        "# Define the start_time_str and end_time_str variables\n",
        "start_time_str = f\"{start_minutes}:{start_seconds}\"\n",
        "end_time_str = f\"{end_minutes}:{end_seconds}\"\n",
        "\n",
        "start_time = convert_minutes_to_seconds(start_time_str)\n",
        "end_time = convert_minutes_to_seconds(end_time_str)\n",
        "# Download the video from YouTube\n",
        "video = YouTube(url)\n",
        "video_stream = video.streams.first()\n",
        "video_stream.download(filename='video.mp4')\n",
        "\n",
        "# Extract the subclip from the video file\n",
        "video_clip = VideoFileClip('video.mp4')\n",
        "subclip = video_clip.subclip(start_time, end_time)\n",
        "\n",
        "# Convert the subclip to audio without changing the bitrate or the codec\n",
        "audio = subclip.audio\n",
        "\n",
        "# Save the audio file\n",
        "audio.write_audiofile('audio.wav')\n",
        "\n",
        "# Delete the original video file and the subclip\n",
        "video_clip.close()\n",
        "subclip.close()\n",
        "os.remove('video.mp4')"
      ]
    },
    {
      "cell_type": "code",
      "source": [
        "#@title Convert to mp3\n",
        "from pydub import AudioSegment\n",
        "\n",
        "# Load the wav file as an AudioSegment object\n",
        "wav_file = AudioSegment.from_wav(\"audio.wav\")\n",
        "output = \"\" #@param {type:\"string\"}\n",
        "# Export the wav file as an mp3 file\n",
        "wav_file.export(output, format=\"mp3\")"
      ],
      "metadata": {
        "colab": {
          "base_uri": "https://localhost:8080/"
        },
        "cellView": "form",
        "id": "bpf9Ar5oydEi",
        "outputId": "aebf7025-0fde-48e4-969b-4f023bda7bb7"
      },
      "execution_count": null,
      "outputs": [
        {
          "output_type": "execute_result",
          "data": {
            "text/plain": [
              "<_io.BufferedRandom name='output.mp3'>"
            ]
          },
          "metadata": {},
          "execution_count": 39
        }
      ]
    }
  ]
}